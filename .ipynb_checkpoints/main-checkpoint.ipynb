{
 "cells": [
  {
   "cell_type": "code",
   "execution_count": 5,
   "id": "70e260f3-bc86-4c37-9031-42c7d79cdf4c",
   "metadata": {},
   "outputs": [],
   "source": [
    "#from fbprophet import Prophet\n",
    "import pandas as pd\n",
    "class DailySpendingAnomalyDetector:\n",
    "  \"\"\"\n",
    "  This class detects anomalies in daily spending data using IQR and Prophet.\n",
    "  \"\"\"\n",
    "\n",
    "  def __init__(self, data):\n",
    "    \"\"\"\n",
    "    Initializes the class with daily spending data.\n",
    "\n",
    "    Args:\n",
    "        data (pandas.DataFrame): A DataFrame with a 'date' column (datetime) and a 'spending' column (numeric).\n",
    "    \"\"\"\n",
    "    self.data = data.copy()  # Avoid modifying original data\n",
    "\n",
    "  def _get_iqr(self):\n",
    "    \"\"\"\n",
    "    Calculates the Interquartile Range (IQR) of the spending data.\n",
    "\n",
    "    Returns:\n",
    "        float: The IQR value.\n",
    "    \"\"\"\n",
    "    q1 = self.data['spending'].quantile(0.25)\n",
    "    q3 = self.data['spending'].quantile(0.75)\n",
    "    return q1, q3\n",
    "\n",
    "  def detect_anomalies_iqr(self, num_std=1.5):\n",
    "    \"\"\"\n",
    "    Identifies anomalies in the daily spending data based on IQR thresholds.\n",
    "\n",
    "    Args:\n",
    "        num_std (float, optional): The number of standard deviations used for thresholds. Defaults to 1.5.\n",
    "\n",
    "    Returns:\n",
    "        pandas.DataFrame: A copy of the original data with a new column 'is_anomaly' (boolean) indicating anomalies.\n",
    "    \"\"\"\n",
    "    q1, q3 = self._get_iqr()  # Unpack the returned tuple to access q1 and q3\n",
    "    iqr = q3 - q1  # Calculate IQR using the unpacked values\n",
    "    lower_bound = q1 - (num_std * iqr)\n",
    "    upper_bound = q3 + (num_std * iqr)\n",
    "      \n",
    "    #iqr = self._get_iqr()\n",
    "    #lower_bound = q1 - (num_std * iqr)\n",
    "    #upper_bound = q3 + (num_std * iqr)\n",
    "    self.data['is_anomaly_iqr'] = ~self.data['spending'].between(lower_bound, upper_bound)\n",
    "    return self.data.copy()\n"
   ]
  },
  {
   "cell_type": "code",
   "execution_count": 6,
   "id": "bb6bc276-4c4f-4706-84e1-aae71e6496e5",
   "metadata": {},
   "outputs": [
    {
     "name": "stdout",
     "output_type": "stream",
     "text": [
      "        date  spending  is_anomaly_iqr\n",
      "0 2024-04-01       100           False\n",
      "1 2024-04-02       120           False\n",
      "2 2024-04-03        80           False\n",
      "3 2024-04-04        95           False\n",
      "4 2024-04-05       150           False\n",
      "5 2024-04-06       110           False\n",
      "6 2024-04-07        70           False\n"
     ]
    }
   ],
   "source": [
    " \n",
    "# Example usage\n",
    "data = pd.DataFrame({\n",
    "  'date': pd.to_datetime(['2024-04-01', '2024-04-02', '2024-04-03', '2024-04-04', '2024-04-05', '2024-04-06', '2024-04-07']),\n",
    "  'spending': [100, 120, 80, 95, 150, 110, 70]\n",
    "})\n",
    "\n",
    "anomaly_detector = DailySpendingAnomalyDetector(data)\n",
    "data_with_iqr_anomalies = anomaly_detector.detect_anomalies_iqr()\n",
    "#data_with_prophet_anomalies = anomaly_detector.detect_anomalies_prophet()\n",
    "\n",
    "print(data_with_iqr_anomalies)\n",
    "#print(data_with_prophet_anomalies)\n",
    "\n"
   ]
  },
  {
   "cell_type": "code",
   "execution_count": null,
   "id": "27fde23f-c232-44ea-b2e7-f738e13d9ff9",
   "metadata": {},
   "outputs": [],
   "source": []
  }
 ],
 "metadata": {
  "kernelspec": {
   "display_name": "Python 3 (ipykernel)",
   "language": "python",
   "name": "python3"
  },
  "language_info": {
   "codemirror_mode": {
    "name": "ipython",
    "version": 3
   },
   "file_extension": ".py",
   "mimetype": "text/x-python",
   "name": "python",
   "nbconvert_exporter": "python",
   "pygments_lexer": "ipython3",
   "version": "3.11.7"
  }
 },
 "nbformat": 4,
 "nbformat_minor": 5
}
